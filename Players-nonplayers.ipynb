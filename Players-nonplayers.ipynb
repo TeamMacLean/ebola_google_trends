{
 "metadata": {
  "name": "",
  "signature": "sha256:5b8e00e360004b849f1145df26deb83bbde3674c8c3b5f069d09b9987a6c8a55"
 },
 "nbformat": 3,
 "nbformat_minor": 0,
 "worksheets": [
  {
   "cells": [
    {
     "cell_type": "markdown",
     "metadata": {},
     "source": [
      "## Ebola google trends replication\n",
      "##### Function that implements the powerlaw behaviour observed through fraxinus.\n",
      "is used from [https://github.com/shyamrallapalli/fraxinus_version1_data_analysis/blob/master/fraxinus_visits_model/Players-nonplayers.ipynb](Fraxinus visists model)\n"
     ]
    },
    {
     "cell_type": "code",
     "collapsed": false,
     "input": [
      "import math\n",
      "import random\n",
      "from scipy.integrate import simps\n",
      "\n",
      "# Function that calculates number of new and returning visitors per day in to a list\n",
      "# Includes a condition to push new players based on press releases\n",
      "def dailyvisits(days, pressdates):\n",
      "    start = 5000\n",
      "    newplayers = start\n",
      "    visits = []\n",
      "    presspush = 0\n",
      "    for i in days:\n",
      "        # On day one all players are new players\n",
      "        if i == 0:\n",
      "            np = start  # new players\n",
      "            rp = 0 # returning players\n",
      "\n",
      "        # From day two calculate decay and other press pushes\n",
      "        else:\n",
      "            # Press release brings additional new players\n",
      "            # But the addtional players are inverse to time since the release \n",
      "            # Has reached the maximum interested people or loss of novelty??\n",
      "            if i in press:\n",
      "                presspush = start*10/i\n",
      "            np = start*math.pow(i,-1.303) + presspush # new players\n",
      "            rp = (start/5)*math.pow(i,-0.764)  # returning players\n",
      "            \n",
      "        # 12 minutes per new player and 70 minutes per returning player\n",
      "        # visists appended are number of human processing hours contributed\n",
      "        v = round((np*12) + (rp*70))\n",
      "        visits.append(v/60)\n",
      "        \n",
      "        # press pushes are exponentially decayed and are reset to zero\n",
      "        presspush = presspush*math.exp(-0.6)\n",
      "        if presspush < 0:\n",
      "            presspush = 0\n",
      "    return visits\n"
     ],
     "language": "python",
     "metadata": {},
     "outputs": [],
     "prompt_number": 34
    },
    {
     "cell_type": "markdown",
     "metadata": {},
     "source": [
      "##### Implement the function to produce output for 60 days after ebola news\n"
     ]
    },
    {
     "cell_type": "markdown",
     "metadata": {},
     "source": [
      "##### Implement the function to produce output for 180 days after ebola news in US"
     ]
    },
    {
     "cell_type": "code",
     "collapsed": false,
     "input": [],
     "language": "python",
     "metadata": {},
     "outputs": []
    }
   ],
   "metadata": {}
  }
 ]
}