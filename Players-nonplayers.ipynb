{
 "metadata": {
  "name": "",
  "signature": "sha256:a181b0f73dffecec928dcf678fffec19d9911177ca54dfb0f3151e0e444337ec"
 },
 "nbformat": 3,
 "nbformat_minor": 0,
 "worksheets": [
  {
   "cells": [
    {
     "cell_type": "markdown",
     "metadata": {},
     "source": [
      "## Ebola google trends replication\n",
      "##### Function that implements the powerlaw behaviour observed through fraxinus.\n",
      "is used from [https://github.com/shyamrallapalli/fraxinus_version1_data_analysis/blob/master/fraxinus_visits_model/Players-nonplayers.ipynb](Fraxinus visists model)\n",
      "\n",
      "\n",
      "since we are only replicating number of searches time contribution by new and returning players is removed\n",
      "And only number visits/searches is calculated per day\n",
      "cohort players/users are added at 80% of the peaks observed in real data (for Fraxinus as well as for ebola google trends)"
     ]
    },
    {
     "cell_type": "code",
     "collapsed": false,
     "input": [
      "import math\n",
      "import random\n",
      "from scipy.integrate import simps\n",
      "\n",
      "# Function that calculates number of new and returning visitors per day in to a list\n",
      "# Includes a condition to push new players based on press releases\n",
      "# cohort players is provided by users, when calling the function\n",
      "def dailyvisits(start, days, pressdates):\n",
      "    newplayers = start\n",
      "    visits = []\n",
      "    presspush = 0\n",
      "    for i in days:\n",
      "        # On day one all players are new players\n",
      "        if i == 0:\n",
      "            np = start  # new players\n",
      "            rp = 0 # returning players\n",
      "\n",
      "        # From day two calculate decay and other press pushes\n",
      "        else:\n",
      "            # Press release brings additional new players\n",
      "            # But the addtional players are inverse to time since the release \n",
      "            # Has reached the maximum interested people or loss of novelty??\n",
      "            if i in press:\n",
      "                presspush = start*10/i\n",
      "            np = start*math.pow(i,-1.303) + presspush # new players\n",
      "            rp = (start/5)*math.pow(i,-0.764)  # returning players\n",
      "            \n",
      "        # 12 minutes per new player and 70 minutes per returning player\n",
      "        # visists appended are number of human processing hours contributed\n",
      "        v = round(np + rp)\n",
      "        visits.append(v)\n",
      "        \n",
      "        # press pushes are exponentially decayed and are reset to zero\n",
      "        presspush = presspush*math.exp(-0.6)\n",
      "        if presspush < 0:\n",
      "            presspush = 0\n",
      "    return visits\n"
     ],
     "language": "python",
     "metadata": {},
     "outputs": [],
     "prompt_number": 1
    },
    {
     "cell_type": "markdown",
     "metadata": {},
     "source": [
      "Ebola term search trends on google trends show two distinct peaks\n",
      "[http://www.google.co.uk/trends/explore#q=ebola&date=7%2F2014%2011m&cmpt=q&tz=](ebola google trends)\n",
      "\n",
      "one due to initial surge in West Africa and second due to the incidence in USA\n",
      "so each peak and subsequent decays are treated as two seperate phenomenon and modelled seperately\n",
      "\n",
      "##### Implement the function to produce output for 60 days after ebola news\n"
     ]
    },
    {
     "cell_type": "code",
     "collapsed": false,
     "input": [
      "cohort = 280\n",
      "days=range(1,60)\n",
      "press=[]\n",
      "\n",
      "visits1 = dailyvisits(cohort, days, press)\n",
      "total1 = sum(visits1)\n",
      "\n",
      "print \"Number of visits/searches for ebola\", total1\n"
     ],
     "language": "python",
     "metadata": {},
     "outputs": [
      {
       "output_type": "stream",
       "stream": "stdout",
       "text": [
        "Number of visits/searches for ebola 1236.0\n"
       ]
      }
     ],
     "prompt_number": 2
    },
    {
     "cell_type": "markdown",
     "metadata": {},
     "source": [
      "##### Implement the function to produce output for 180 days after ebola news in US"
     ]
    },
    {
     "cell_type": "code",
     "collapsed": false,
     "input": [
      "\n",
      "cohort2 = 560\n",
      "days2=range(1,180)\n",
      "press2=[]\n",
      "\n",
      "visits2 = dailyvisits(cohort2, days2, press2)\n",
      "total2 = sum(visits2)\n",
      "\n",
      "print \"Number of visits/searches for ebola\", total2"
     ],
     "language": "python",
     "metadata": {},
     "outputs": [
      {
       "output_type": "stream",
       "stream": "stdout",
       "text": [
        "Number of visits/searches for ebola 3008.0\n"
       ]
      }
     ],
     "prompt_number": 3
    },
    {
     "cell_type": "code",
     "collapsed": false,
     "input": [
      "combined = [0] + visits1 + visits2\n",
      "alldays = range(1,240)\n",
      "#print len(combined), len(alldays)\n",
      "\n",
      "f = open('searches_ebola_model.txt', 'w')\n",
      "print >> f, \"Day\\tsearches\"\n",
      "for k in alldays:\n",
      "    print >> f, alldays[k-1], \"\\t\", combined[k-1]\n",
      "    \n",
      "f.close()"
     ],
     "language": "python",
     "metadata": {},
     "outputs": [],
     "prompt_number": 4
    },
    {
     "cell_type": "code",
     "collapsed": false,
     "input": [
      "import matplotlib.pyplot as plt\n",
      "fig, axes = plt.subplots(1, 1, figsize=(16, 8))  \n",
      "plt.plot(alldays, combined, \"-*\", label=\"ebola google trends\")\n",
      "plt.xlabel('Days', fontsize=14)\n",
      "plt.ylabel('Searches', fontsize=14)\n",
      "plt.legend()"
     ],
     "language": "python",
     "metadata": {},
     "outputs": [
      {
       "metadata": {},
       "output_type": "pyout",
       "prompt_number": 5,
       "text": [
        "<matplotlib.legend.Legend at 0x10d7bad10>"
       ]
      },
      {
       "metadata": {},
       "output_type": "display_data",
       "png": "[encoded data removed]",
       "text": [
        "<matplotlib.figure.Figure at 0x10d5e7e50>"
       ]
      }
     ],
     "prompt_number": 5
    },
    {
     "cell_type": "code",
     "collapsed": false,
     "input": [],
     "language": "python",
     "metadata": {},
     "outputs": []
    }
   ],
   "metadata": {}
  }
 ]
}