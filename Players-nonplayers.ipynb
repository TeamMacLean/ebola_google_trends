{
 "metadata": {
  "name": "",
  "signature": "sha256:5ea6c2060aff5766474b29161df5f704ec96878524a01e631d9fa813ac8b88d4"
 },
 "nbformat": 3,
 "nbformat_minor": 0,
 "worksheets": [
  {
   "cells": [
    {
     "cell_type": "markdown",
     "metadata": {},
     "source": [
      "## Ebola google trends replication\n",
      "##### Function that implements the powerlaw behaviour observed through fraxinus.\n",
      "is used from [https://github.com/shyamrallapalli/fraxinus_version1_data_analysis/blob/master/fraxinus_visits_model/Players-nonplayers.ipynb](Fraxinus visists model)\n",
      "\n",
      "\n",
      "since we are only replicating number of searches time contribution by new and returning players is removed\n",
      "And only number visits/searches is calculated per day"
     ]
    },
    {
     "cell_type": "code",
     "collapsed": false,
     "input": [
      "import math\n",
      "import random\n",
      "from scipy.integrate import simps\n",
      "\n",
      "# Function that calculates number of new and returning visitors per day in to a list\n",
      "# Includes a condition to push new players based on press releases\n",
      "# cohort players is provided by users, when calling the function\n",
      "def dailyvisits(start, days, pressdates):\n",
      "    newplayers = start\n",
      "    visits = []\n",
      "    presspush = 0\n",
      "    for i in days:\n",
      "        # On day one all players are new players\n",
      "        if i == 0:\n",
      "            np = start  # new players\n",
      "            rp = 0 # returning players\n",
      "\n",
      "        # From day two calculate decay and other press pushes\n",
      "        else:\n",
      "            # Press release brings additional new players\n",
      "            # But the addtional players are inverse to time since the release \n",
      "            # Has reached the maximum interested people or loss of novelty??\n",
      "            if i in press:\n",
      "                presspush = start*10/i\n",
      "            np = start*math.pow(i,-1.303) + presspush # new players\n",
      "            rp = (start/5)*math.pow(i,-0.764)  # returning players\n",
      "            \n",
      "        # 12 minutes per new player and 70 minutes per returning player\n",
      "        # visists appended are number of human processing hours contributed\n",
      "        v = round(np + rp)\n",
      "        visits.append(v)\n",
      "        \n",
      "        # press pushes are exponentially decayed and are reset to zero\n",
      "        presspush = presspush*math.exp(-0.6)\n",
      "        if presspush < 0:\n",
      "            presspush = 0\n",
      "    return visits\n"
     ],
     "language": "python",
     "metadata": {},
     "outputs": [],
     "prompt_number": 38
    },
    {
     "cell_type": "markdown",
     "metadata": {},
     "source": [
      "##### Implement the function to produce output for 60 days after ebola news\n"
     ]
    },
    {
     "cell_type": "code",
     "collapsed": false,
     "input": [
      "cohort = 40\n",
      "days=range(1,60)\n",
      "press=[]\n",
      "\n",
      "visits1 = dailyvisits(cohort, days, press)\n",
      "total1 = sum(visits1)\n",
      "\n",
      "print \"Number of visits/searches for ebola\", total1\n"
     ],
     "language": "python",
     "metadata": {},
     "outputs": [
      {
       "output_type": "stream",
       "stream": "stdout",
       "text": [
        "Number of visits/searches for ebola 183.0\n"
       ]
      }
     ],
     "prompt_number": 39
    },
    {
     "cell_type": "markdown",
     "metadata": {},
     "source": [
      "##### Implement the function to produce output for 180 days after ebola news in US"
     ]
    },
    {
     "cell_type": "code",
     "collapsed": false,
     "input": [
      "\n",
      "cohort2 = 80\n",
      "days2=range(1,180)\n",
      "press2=[]\n",
      "\n",
      "visits2 = dailyvisits(cohort2, days2, press2)\n",
      "total2 = sum(visits2)\n",
      "\n",
      "print \"Number of visits/searches for ebola\", total2"
     ],
     "language": "python",
     "metadata": {},
     "outputs": [
      {
       "output_type": "stream",
       "stream": "stdout",
       "text": [
        "Number of visits/searches for ebola 433.0\n"
       ]
      }
     ],
     "prompt_number": 40
    },
    {
     "cell_type": "code",
     "collapsed": false,
     "input": [
      "combined = [0] + visits1 + visits2\n",
      "alldays = range(1,240)\n",
      "#print len(combined), len(alldays)\n",
      "\n",
      "f = open('searches_ebola_model.txt', 'w')\n",
      "print >> f, \"Day\\tsearches\"\n",
      "for k in alldays:\n",
      "    print >> f, alldays[k-1], \"\\t\", combined[k-1]\n",
      "    \n",
      "import matplotlib.pyplot as plt\n",
      "fig, axes = plt.subplots(1, 1, figsize=(16, 8))  \n",
      "plt.plot(alldays, combined, \"-*\", label=\"ebola google trends\")\n",
      "plt.xlabel('Days', fontsize=14)\n",
      "plt.ylabel('Searches', fontsize=14)\n",
      "plt.legend()"
     ],
     "language": "python",
     "metadata": {},
     "outputs": [
      {
       "metadata": {},
       "output_type": "pyout",
       "prompt_number": 41,
       "text": [
        "<matplotlib.legend.Legend at 0x10e8baa90>"
       ]
      },
      {
       "metadata": {},
       "output_type": "display_data",
       "png": "[encoded data removed]",
       "text": [
        "<matplotlib.figure.Figure at 0x10d0b4e90>"
       ]
      }
     ],
     "prompt_number": 41
    },
    {
     "cell_type": "code",
     "collapsed": false,
     "input": [],
     "language": "python",
     "metadata": {},
     "outputs": []
    }
   ],
   "metadata": {}
  }
 ]
}